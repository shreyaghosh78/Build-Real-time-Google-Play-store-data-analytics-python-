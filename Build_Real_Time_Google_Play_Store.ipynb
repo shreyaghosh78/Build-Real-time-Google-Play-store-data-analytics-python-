{
 "cells": [
  {
   "cell_type": "code",
   "execution_count": 3,
   "metadata": {},
   "outputs": [
    {
     "name": "stdout",
     "output_type": "stream",
     "text": [
      "Requirement already satisfied: google-play-scraper in c:\\users\\user\\appdata\\local\\programs\\python\\python313\\lib\\site-packages (1.2.7)\n"
     ]
    }
   ],
   "source": [
    "# Build Real time Google Play store data analytics - python\n",
    "!pip install google-play-scraper"
   ]
  },
  {
   "cell_type": "code",
   "execution_count": 4,
   "metadata": {},
   "outputs": [
    {
     "name": "stdout",
     "output_type": "stream",
     "text": [
      "{'title': 'WhatsApp Messenger', 'description': 'WhatsApp from Meta is a FREE messaging and video calling app. It’s used by over 2B people in more than 180 countries. It’s simple, reliable, and private, so you can easily keep in touch with your friends and family. WhatsApp works across mobile and desktop even on slow connections, with no subscription fees*.\\r\\n\\r\\nPrivate messaging across the world\\r\\n\\r\\nYour personal messages and calls to friends and family are end-to-end encrypted. No one outside of your chats, not even WhatsApp, can read or listen to them.\\r\\n\\r\\nSimple and secure connections, right away\\r\\n\\r\\nAll you need is your phone number, no user names or logins. You can quickly view your contacts who are on WhatsApp and start messaging.\\r\\n\\r\\nHigh quality voice and video calls\\r\\n\\r\\nMake secure video and voice calls with up to 8 people for free*. Your calls work across mobile devices using your phone’s Internet service, even on slow connections.\\r\\n\\r\\nGroup chats to keep you in contact\\r\\n\\r\\nStay in touch with your friends and family. End-to-end encrypted group chats let you share messages, photos, videos and documents across mobile and desktop.\\r\\n\\r\\nStay connected in real time\\r\\n\\r\\nShare your location with only those in your individual or group chat, and stop sharing at any time. Or record a voice message to connect quickly.\\r\\n\\r\\nShare daily moments through Status\\r\\n\\r\\nStatus allows you to share text, photos, video and GIF updates that disappear after 24 hours. You can choose to share status posts with all your contacts or just selected ones.\\r\\n\\r\\nUse WhatsApp on your Wear OS watch to continue conversations, reply to messages, and take calls - all from your wrist. And, leverage tiles and complications to easily access your chats and send voice messages.\\r\\n\\r\\n\\r\\n*Data charges may apply. Contact your provider for details.\\r\\n\\r\\n---------------------------------------------------------\\r\\n\\r\\nIf you have any feedback or questions, please go to WhatsApp > Settings > Help > Contact Us\\r\\n\\r\\nTerms of Service: https://www.whatsapp.com/legal/terms-of-service\\r\\n \\r\\n Learn more about messaging privately: https://www.whatsapp.com/privacy\\r\\n \\r\\n Learn more about WhatsApp safety: https://www.whatsapp.com/security', 'descriptionHTML': 'WhatsApp from Meta is a FREE messaging and video calling app. It’s used by over 2B people in more than 180 countries. It’s simple, reliable, and private, so you can easily keep in touch with your friends and family. WhatsApp works across mobile and desktop even on slow connections, with no subscription fees*.<br><br>Private messaging across the world<br><br>Your personal messages and calls to friends and family are end-to-end encrypted. No one outside of your chats, not even WhatsApp, can read or listen to them.<br><br>Simple and secure connections, right away<br><br>All you need is your phone number, no user names or logins. You can quickly view your contacts who are on WhatsApp and start messaging.<br><br>High quality voice and video calls<br><br>Make secure video and voice calls with up to 8 people for free*. Your calls work across mobile devices using your phone’s Internet service, even on slow connections.<br><br>Group chats to keep you in contact<br><br>Stay in touch with your friends and family. End-to-end encrypted group chats let you share messages, photos, videos and documents across mobile and desktop.<br><br>Stay connected in real time<br><br>Share your location with only those in your individual or group chat, and stop sharing at any time. Or record a voice message to connect quickly.<br><br>Share daily moments through Status<br><br>Status allows you to share text, photos, video and GIF updates that disappear after 24 hours. You can choose to share status posts with all your contacts or just selected ones.<br><br>Use WhatsApp on your Wear OS watch to continue conversations, reply to messages, and take calls - all from your wrist. And, leverage tiles and complications to easily access your chats and send voice messages.<br><br><br>*Data charges may apply. Contact your provider for details.<br><br>---------------------------------------------------------<br><br>If you have any feedback or questions, please go to WhatsApp &gt; Settings &gt; Help &gt; Contact Us<br><br>Terms of Service: https://www.whatsapp.com/legal/terms-of-service<br> <br> Learn more about messaging privately: https://www.whatsapp.com/privacy<br> <br> Learn more about WhatsApp safety: https://www.whatsapp.com/security', 'summary': 'Simple. Reliable. Private.', 'installs': '5,000,000,000+', 'minInstalls': 5000000000, 'realInstalls': 9789265006, 'score': 4.4251466, 'ratings': 201846087, 'reviews': 1977348, 'histogram': [16683430, 4882505, 8392116, 17866328, 154021639], 'price': 0, 'free': True, 'currency': 'USD', 'sale': False, 'saleTime': None, 'originalPrice': None, 'saleText': None, 'offersIAP': False, 'inAppProductPrice': None, 'developer': 'WhatsApp LLC', 'developerId': 'WhatsApp+LLC', 'developerEmail': 'android@support.whatsapp.com', 'developerWebsite': 'http://www.whatsapp.com/', 'developerAddress': '1601 Willow Road\\nMenlo Park, CA 94025', 'privacyPolicy': 'https://www.whatsapp.com/legal/privacy-policy', 'genre': 'Communication', 'genreId': 'COMMUNICATION', 'categories': [{'name': 'Communication', 'id': 'COMMUNICATION'}], 'icon': 'https://play-lh.googleusercontent.com/bYtqbOcTYOlgc6gqZ2rwb8lptHuwlNE75zYJu6Bn076-hTmvd96HH-6v7S0YUAAJXoJN', 'headerImage': 'https://play-lh.googleusercontent.com/MWV1erZURmTaeXGj29ZLWMSo_7DB92q3IL71lDSRooqbb3qidsa4c9DJ0_jEQgOeXEQ', 'screenshots': ['https://play-lh.googleusercontent.com/ey21SzFwDygWgKaRggLUbdIyu2tglKBpFwGkLVHFmJOM8m01Oek3bi3fJ-7HVsC9XOU', 'https://play-lh.googleusercontent.com/ZmcWoo-YPfdO9fiSJ5EekdhNbm0pifBpOBN05HryaT-t2OHpIVmZhQd5vAE4QcoPFQ', 'https://play-lh.googleusercontent.com/U4SFDCqj0l9XtKvffEzVcJ3z8TSuGibBMRlOFudbbkfL8YKs5STVB5W71eRty881Zorn', 'https://play-lh.googleusercontent.com/EjSO3MSyZN-itVa9kOlvNkNakBw2T1opl6COxjQtLIwjNAYMTTNWkXP8LLN1JTTf7w', 'https://play-lh.googleusercontent.com/jFySdSELzJM8i4jmlIVkZBphkyUHKQnSPjle54uCVe3B8FArSnRxiO7FCPZWO6yd9w', 'https://play-lh.googleusercontent.com/Jt-ttCMUUkZ_-u8DS3MeRrzlWkup3trRGcJrpo5vSIGzxdBs3nk3GkNZ9wWG9zAkfA', 'https://play-lh.googleusercontent.com/GZc67XnRN0XxNTv1J4pTw79lMiQFYKGx5dDEYPEsMUWDgNnHnUoyHg76cn61M3QTwXC5', 'https://play-lh.googleusercontent.com/3VmrU-Se_cvnW6L_skAv6ZC2fut3Fl2XqoZPl74eROsw0gUl4ANSrh8D8M5W6-mSLBI', 'https://play-lh.googleusercontent.com/Lgz--QiIwM5jGw9rCGSMcvocR6ctLyNLdU52FQqNefybXhVhmcaj9Fh_S-QombddtoU5'], 'video': None, 'videoImage': None, 'contentRating': 'Everyone', 'contentRatingDescription': None, 'adSupported': False, 'containsAds': False, 'released': 'Oct 18, 2010', 'lastUpdatedOn': 'Jan 7, 2025', 'updated': 1736277681, 'version': 'Varies with device', 'comments': [], 'appId': 'com.whatsapp', 'url': 'https://play.google.com/store/apps/details?id=com.whatsapp&hl=en&gl=us'}\n"
     ]
    }
   ],
   "source": [
    "from google_play_scraper import app\n",
    "\n",
    "# Fetch app data by package name (e.g., com.whatsapp)\n",
    "result = app('com.whatsapp')\n",
    "\n",
    "print(result)"
   ]
  },
  {
   "cell_type": "code",
   "execution_count": 5,
   "metadata": {},
   "outputs": [],
   "source": [
    "# Data Storage\n",
    "# You can store this data in a database like SQLite, PostgreSQL, or MySQL, or use a file format like CSV or JSON.\n",
    "import csv\n",
    "data = {\n",
    "    'app_name': result['title'],\n",
    "    'rating': result['score'],\n",
    "    'reviews': result['ratings'],\n",
    "    'installs': result['installs']\n",
    "}\n",
    "\n",
    "# Saving to CSV\n",
    "with open('playstore_data.csv', mode='w', newline='') as file:\n",
    "    writer = csv.DictWriter(file, fieldnames=data.keys())\n",
    "    writer.writeheader()\n",
    "    writer.writerow(data)\n"
   ]
  },
  {
   "cell_type": "code",
   "execution_count": 6,
   "metadata": {},
   "outputs": [
    {
     "name": "stdout",
     "output_type": "stream",
     "text": [
      "Requirement already satisfied: schedule in c:\\users\\user\\appdata\\local\\programs\\python\\python313\\lib\\site-packages (1.2.2)\n"
     ]
    }
   ],
   "source": [
    "!pip install schedule"
   ]
  },
  {
   "cell_type": "code",
   "execution_count": 7,
   "metadata": {},
   "outputs": [
    {
     "name": "stderr",
     "output_type": "stream",
     "text": [
      "ERROR: Could not find a version that satisfies the requirement time (from versions: none)\n",
      "ERROR: No matching distribution found for time\n"
     ]
    }
   ],
   "source": [
    "!pip install time"
   ]
  },
  {
   "cell_type": "code",
   "execution_count": 8,
   "metadata": {},
   "outputs": [
    {
     "name": "stdout",
     "output_type": "stream",
     "text": [
      "Requirement already satisfied: google-play-scraper in c:\\users\\user\\appdata\\local\\programs\\python\\python313\\lib\\site-packages (1.2.7)\n"
     ]
    }
   ],
   "source": [
    "!pip install google-play-scraper\n"
   ]
  },
  {
   "cell_type": "code",
   "execution_count": 9,
   "metadata": {},
   "outputs": [
    {
     "name": "stdout",
     "output_type": "stream",
     "text": [
      "Average rating: 4.4251466\n"
     ]
    }
   ],
   "source": [
    "# Data Processing and Analysis\n",
    "# After collecting the data, you can perform various analyses:\n",
    "\n",
    "# Trends in ratings and reviews over time.\n",
    "# App category performance comparison.\n",
    "# Correlation analysis between ratings and installs.\n",
    "# Example of analyzing the data with pandas:\n",
    "import pandas as pd\n",
    "\n",
    "# Load the CSV or database data into a pandas DataFrame\n",
    "df = pd.read_csv('playstore_data.csv')\n",
    "\n",
    "# Analysis: Average rating\n",
    "avg_rating = df['rating'].mean()\n",
    "print(f\"Average rating: {avg_rating}\")"
   ]
  },
  {
   "cell_type": "code",
   "execution_count": 10,
   "metadata": {},
   "outputs": [
    {
     "name": "stderr",
     "output_type": "stream",
     "text": [
      "ERROR: Could not find a version that satisfies the requirement sqlite3 (from versions: none)\n",
      "ERROR: No matching distribution found for sqlite3\n"
     ]
    }
   ],
   "source": [
    "!pip install sqlite3"
   ]
  },
  {
   "cell_type": "code",
   "execution_count": 11,
   "metadata": {},
   "outputs": [],
   "source": [
    "#data store in database\n",
    "import sqlite3\n",
    "\n",
    "# Create database connection\n",
    "conn = sqlite3.connect('playstore_data.db')\n",
    "cursor = conn.cursor()\n",
    "\n",
    "# Create tables\n",
    "cursor.execute('''\n",
    "CREATE TABLE IF NOT EXISTS app_details (\n",
    "    id TEXT PRIMARY KEY,\n",
    "    title TEXT,\n",
    "    genre TEXT,\n",
    "    rating REAL,\n",
    "    installs TEXT,\n",
    "    last_updated DATE\n",
    ")''')\n",
    "\n",
    "cursor.execute('''\n",
    "CREATE TABLE IF NOT EXISTS reviews (\n",
    "    id INTEGER PRIMARY KEY AUTOINCREMENT,\n",
    "    app_id TEXT,\n",
    "    review TEXT,\n",
    "    rating INTEGER,\n",
    "    timestamp DATE,\n",
    "    FOREIGN KEY(app_id) REFERENCES app_details(id)\n",
    ")''')\n",
    "\n",
    "conn.commit()\n",
    "conn.close()"
   ]
  },
  {
   "cell_type": "code",
   "execution_count": 12,
   "metadata": {},
   "outputs": [
    {
     "data": {
      "image/png": "[encoded data removed]",
      "text/plain": [
       "<Figure size 640x480 with 1 Axes>"
      ]
     },
     "metadata": {},
     "output_type": "display_data"
    }
   ],
   "source": [
    "# Visualization\n",
    "# To present insights, you can use data visualization libraries like matplotlib or seaborn.\n",
    "\n",
    "# Example of visualizing rating distribution:\n",
    "import matplotlib.pyplot as plt\n",
    "\n",
    "df['rating'].hist(bins=10)\n",
    "plt.title('Rating Distribution')\n",
    "plt.xlabel('Rating')\n",
    "plt.ylabel('Frequency')\n",
    "plt.show()"
   ]
  },
  {
   "cell_type": "code",
   "execution_count": 13,
   "metadata": {},
   "outputs": [
    {
     "name": "stdout",
     "output_type": "stream",
     "text": [
      "Requirement already satisfied: matplotlib in c:\\users\\user\\appdata\\local\\programs\\python\\python313\\lib\\site-packages (3.10.0)\n",
      "Requirement already satisfied: contourpy>=1.0.1 in c:\\users\\user\\appdata\\local\\programs\\python\\python313\\lib\\site-packages (from matplotlib) (1.3.1)\n",
      "Requirement already satisfied: cycler>=0.10 in c:\\users\\user\\appdata\\local\\programs\\python\\python313\\lib\\site-packages (from matplotlib) (0.12.1)\n",
      "Requirement already satisfied: fonttools>=4.22.0 in c:\\users\\user\\appdata\\local\\programs\\python\\python313\\lib\\site-packages (from matplotlib) (4.55.3)\n",
      "Requirement already satisfied: kiwisolver>=1.3.1 in c:\\users\\user\\appdata\\local\\programs\\python\\python313\\lib\\site-packages (from matplotlib) (1.4.7)\n",
      "Requirement already satisfied: numpy>=1.23 in c:\\users\\user\\appdata\\local\\programs\\python\\python313\\lib\\site-packages (from matplotlib) (2.2.1)\n",
      "Requirement already satisfied: packaging>=20.0 in c:\\users\\user\\appdata\\local\\programs\\python\\python313\\lib\\site-packages (from matplotlib) (24.2)\n",
      "Requirement already satisfied: pillow>=8 in c:\\users\\user\\appdata\\local\\programs\\python\\python313\\lib\\site-packages (from matplotlib) (11.0.0)\n",
      "Requirement already satisfied: pyparsing>=2.3.1 in c:\\users\\user\\appdata\\local\\programs\\python\\python313\\lib\\site-packages (from matplotlib) (3.2.0)\n",
      "Requirement already satisfied: python-dateutil>=2.7 in c:\\users\\user\\appdata\\local\\programs\\python\\python313\\lib\\site-packages (from matplotlib) (2.9.0.post0)\n",
      "Requirement already satisfied: six>=1.5 in c:\\users\\user\\appdata\\local\\programs\\python\\python313\\lib\\site-packages (from python-dateutil>=2.7->matplotlib) (1.17.0)\n"
     ]
    }
   ],
   "source": [
    "!pip install matplotlib"
   ]
  },
  {
   "cell_type": "code",
   "execution_count": 14,
   "metadata": {},
   "outputs": [
    {
     "name": "stdout",
     "output_type": "stream",
     "text": [
      "Requirement already satisfied: pandas in c:\\users\\user\\appdata\\local\\programs\\python\\python313\\lib\\site-packages (2.2.3)\n",
      "Requirement already satisfied: numpy>=1.26.0 in c:\\users\\user\\appdata\\local\\programs\\python\\python313\\lib\\site-packages (from pandas) (2.2.1)\n",
      "Requirement already satisfied: python-dateutil>=2.8.2 in c:\\users\\user\\appdata\\local\\programs\\python\\python313\\lib\\site-packages (from pandas) (2.9.0.post0)\n",
      "Requirement already satisfied: pytz>=2020.1 in c:\\users\\user\\appdata\\local\\programs\\python\\python313\\lib\\site-packages (from pandas) (2024.2)\n",
      "Requirement already satisfied: tzdata>=2022.7 in c:\\users\\user\\appdata\\local\\programs\\python\\python313\\lib\\site-packages (from pandas) (2024.2)\n",
      "Requirement already satisfied: six>=1.5 in c:\\users\\user\\appdata\\local\\programs\\python\\python313\\lib\\site-packages (from python-dateutil>=2.8.2->pandas) (1.17.0)\n"
     ]
    }
   ],
   "source": [
    "!pip install pandas"
   ]
  },
  {
   "cell_type": "code",
   "execution_count": 15,
   "metadata": {},
   "outputs": [
    {
     "data": {
      "image/png": "[encoded data removed]",
      "text/plain": [
       "<Figure size 640x480 with 1 Axes>"
      ]
     },
     "metadata": {},
     "output_type": "display_data"
    }
   ],
   "source": [
    "import pandas as pd\n",
    "\n",
    "# # Read data from the database\n",
    "# conn = sqlite3.connect('playstore_data.db')\n",
    "# reviews_df = pd.read_sql_query('SELECT * FROM reviews', conn)\n",
    "\n",
    "# # Analyze ratings\n",
    "# rating_counts = reviews_df['rating'].value_counts()\n",
    "# print(rating_counts)\n",
    "# Example data: Replace this with your actual ratings data\n",
    "data = {'rating': [1, 2, 3, 4, 5], 'count': [10, 15, 25, 30, 20]}\n",
    "ratings_df = pd.DataFrame(data)\n",
    "\n",
    "# Set the index to ratings for plotting\n",
    "rating_counts = ratings_df.set_index('rating')['count']\n",
    "\n",
    "# Plot the data\n",
    "rating_counts.plot(kind='bar')\n",
    "plt.title('Ratings Distribution')\n",
    "plt.xlabel('Ratings')\n",
    "plt.ylabel('Count')\n",
    "plt.show()"
   ]
  },
  {
   "cell_type": "code",
   "execution_count": 16,
   "metadata": {},
   "outputs": [
    {
     "data": {
      "image/png": "[encoded data removed]",
      "text/plain": [
       "<Figure size 640x480 with 1 Axes>"
      ]
     },
     "metadata": {},
     "output_type": "display_data"
    }
   ],
   "source": [
    "# Handle Missing Data\n",
    "# If the data is incomplete or there are missing ratings (e.g., no reviews for some stars), explicitly handle them.\n",
    "\n",
    "# Fix Missing Ratings:\n",
    "# Fill in missing ratings\n",
    "all_ratings = pd.Series(index=range(1, 6), data=0)\n",
    "rating_counts = rating_counts.add(all_ratings, fill_value=0).sort_index()\n",
    "\n",
    "# Plot the data\n",
    "rating_counts.plot(kind='bar')\n",
    "plt.title('Ratings Distribution')\n",
    "plt.xlabel('Ratings')\n",
    "plt.ylabel('Count')\n",
    "plt.show()"
   ]
  },
  {
   "cell_type": "code",
   "execution_count": 17,
   "metadata": {},
   "outputs": [
    {
     "name": "stdout",
     "output_type": "stream",
     "text": [
      "rating\n",
      "1    10\n",
      "2    15\n",
      "3    25\n",
      "4    30\n",
      "5    20\n",
      "dtype: int64\n",
      "<class 'pandas.core.series.Series'>\n"
     ]
    }
   ],
   "source": [
    "# Debugging rating_counts\n",
    "# If you're still encountering issues, print the variable to inspect its structure:\n",
    "print(rating_counts)\n",
    "print(type(rating_counts))"
   ]
  },
  {
   "cell_type": "code",
   "execution_count": 18,
   "metadata": {},
   "outputs": [
    {
     "name": "stdout",
     "output_type": "stream",
     "text": [
      "Requirement already satisfied: streamlit in c:\\users\\user\\appdata\\local\\programs\\python\\python313\\lib\\site-packages (1.41.1)\n",
      "Requirement already satisfied: altair<6,>=4.0 in c:\\users\\user\\appdata\\local\\programs\\python\\python313\\lib\\site-packages (from streamlit) (5.5.0)\n",
      "Requirement already satisfied: blinker<2,>=1.0.0 in c:\\users\\user\\appdata\\local\\programs\\python\\python313\\lib\\site-packages (from streamlit) (1.9.0)\n",
      "Requirement already satisfied: cachetools<6,>=4.0 in c:\\users\\user\\appdata\\local\\programs\\python\\python313\\lib\\site-packages (from streamlit) (5.5.0)\n",
      "Requirement already satisfied: click<9,>=7.0 in c:\\users\\user\\appdata\\local\\programs\\python\\python313\\lib\\site-packages (from streamlit) (8.1.8)\n",
      "Requirement already satisfied: numpy<3,>=1.23 in c:\\users\\user\\appdata\\local\\programs\\python\\python313\\lib\\site-packages (from streamlit) (2.2.1)\n",
      "Requirement already satisfied: packaging<25,>=20 in c:\\users\\user\\appdata\\local\\programs\\python\\python313\\lib\\site-packages (from streamlit) (24.2)\n",
      "Requirement already satisfied: pandas<3,>=1.4.0 in c:\\users\\user\\appdata\\local\\programs\\python\\python313\\lib\\site-packages (from streamlit) (2.2.3)\n",
      "Requirement already satisfied: pillow<12,>=7.1.0 in c:\\users\\user\\appdata\\local\\programs\\python\\python313\\lib\\site-packages (from streamlit) (11.0.0)\n",
      "Requirement already satisfied: protobuf<6,>=3.20 in c:\\users\\user\\appdata\\local\\programs\\python\\python313\\lib\\site-packages (from streamlit) (5.29.2)\n",
      "Requirement already satisfied: pyarrow>=7.0 in c:\\users\\user\\appdata\\local\\programs\\python\\python313\\lib\\site-packages (from streamlit) (18.1.0)\n",
      "Requirement already satisfied: requests<3,>=2.27 in c:\\users\\user\\appdata\\local\\programs\\python\\python313\\lib\\site-packages (from streamlit) (2.32.3)\n",
      "Requirement already satisfied: rich<14,>=10.14.0 in c:\\users\\user\\appdata\\local\\programs\\python\\python313\\lib\\site-packages (from streamlit) (13.9.4)\n",
      "Requirement already satisfied: tenacity<10,>=8.1.0 in c:\\users\\user\\appdata\\local\\programs\\python\\python313\\lib\\site-packages (from streamlit) (9.0.0)\n",
      "Requirement already satisfied: toml<2,>=0.10.1 in c:\\users\\user\\appdata\\local\\programs\\python\\python313\\lib\\site-packages (from streamlit) (0.10.2)\n",
      "Requirement already satisfied: typing-extensions<5,>=4.3.0 in c:\\users\\user\\appdata\\local\\programs\\python\\python313\\lib\\site-packages (from streamlit) (4.12.2)\n",
      "Requirement already satisfied: watchdog<7,>=2.1.5 in c:\\users\\user\\appdata\\local\\programs\\python\\python313\\lib\\site-packages (from streamlit) (6.0.0)\n",
      "Requirement already satisfied: gitpython!=3.1.19,<4,>=3.0.7 in c:\\users\\user\\appdata\\local\\programs\\python\\python313\\lib\\site-packages (from streamlit) (3.1.43)\n",
      "Requirement already satisfied: pydeck<1,>=0.8.0b4 in c:\\users\\user\\appdata\\local\\programs\\python\\python313\\lib\\site-packages (from streamlit) (0.9.1)\n",
      "Requirement already satisfied: tornado<7,>=6.0.3 in c:\\users\\user\\appdata\\local\\programs\\python\\python313\\lib\\site-packages (from streamlit) (6.4.2)\n",
      "Requirement already satisfied: jinja2 in c:\\users\\user\\appdata\\local\\programs\\python\\python313\\lib\\site-packages (from altair<6,>=4.0->streamlit) (3.1.5)\n",
      "Requirement already satisfied: jsonschema>=3.0 in c:\\users\\user\\appdata\\local\\programs\\python\\python313\\lib\\site-packages (from altair<6,>=4.0->streamlit) (4.23.0)\n",
      "Requirement already satisfied: narwhals>=1.14.2 in c:\\users\\user\\appdata\\local\\programs\\python\\python313\\lib\\site-packages (from altair<6,>=4.0->streamlit) (1.19.1)\n",
      "Requirement already satisfied: colorama in c:\\users\\user\\appdata\\local\\programs\\python\\python313\\lib\\site-packages (from click<9,>=7.0->streamlit) (0.4.6)\n",
      "Requirement already satisfied: gitdb<5,>=4.0.1 in c:\\users\\user\\appdata\\local\\programs\\python\\python313\\lib\\site-packages (from gitpython!=3.1.19,<4,>=3.0.7->streamlit) (4.0.11)\n",
      "Requirement already satisfied: python-dateutil>=2.8.2 in c:\\users\\user\\appdata\\local\\programs\\python\\python313\\lib\\site-packages (from pandas<3,>=1.4.0->streamlit) (2.9.0.post0)\n",
      "Requirement already satisfied: pytz>=2020.1 in c:\\users\\user\\appdata\\local\\programs\\python\\python313\\lib\\site-packages (from pandas<3,>=1.4.0->streamlit) (2024.2)\n",
      "Requirement already satisfied: tzdata>=2022.7 in c:\\users\\user\\appdata\\local\\programs\\python\\python313\\lib\\site-packages (from pandas<3,>=1.4.0->streamlit) (2024.2)\n",
      "Requirement already satisfied: charset-normalizer<4,>=2 in c:\\users\\user\\appdata\\local\\programs\\python\\python313\\lib\\site-packages (from requests<3,>=2.27->streamlit) (3.4.0)\n",
      "Requirement already satisfied: idna<4,>=2.5 in c:\\users\\user\\appdata\\local\\programs\\python\\python313\\lib\\site-packages (from requests<3,>=2.27->streamlit) (3.10)\n",
      "Requirement already satisfied: urllib3<3,>=1.21.1 in c:\\users\\user\\appdata\\local\\programs\\python\\python313\\lib\\site-packages (from requests<3,>=2.27->streamlit) (2.3.0)\n",
      "Requirement already satisfied: certifi>=2017.4.17 in c:\\users\\user\\appdata\\local\\programs\\python\\python313\\lib\\site-packages (from requests<3,>=2.27->streamlit) (2024.12.14)\n",
      "Requirement already satisfied: markdown-it-py>=2.2.0 in c:\\users\\user\\appdata\\local\\programs\\python\\python313\\lib\\site-packages (from rich<14,>=10.14.0->streamlit) (3.0.0)\n",
      "Requirement already satisfied: pygments<3.0.0,>=2.13.0 in c:\\users\\user\\appdata\\local\\programs\\python\\python313\\lib\\site-packages (from rich<14,>=10.14.0->streamlit) (2.18.0)\n",
      "Requirement already satisfied: smmap<6,>=3.0.1 in c:\\users\\user\\appdata\\local\\programs\\python\\python313\\lib\\site-packages (from gitdb<5,>=4.0.1->gitpython!=3.1.19,<4,>=3.0.7->streamlit) (5.0.1)\n",
      "Requirement already satisfied: MarkupSafe>=2.0 in c:\\users\\user\\appdata\\local\\programs\\python\\python313\\lib\\site-packages (from jinja2->altair<6,>=4.0->streamlit) (3.0.2)\n",
      "Requirement already satisfied: attrs>=22.2.0 in c:\\users\\user\\appdata\\local\\programs\\python\\python313\\lib\\site-packages (from jsonschema>=3.0->altair<6,>=4.0->streamlit) (24.3.0)\n",
      "Requirement already satisfied: jsonschema-specifications>=2023.03.6 in c:\\users\\user\\appdata\\local\\programs\\python\\python313\\lib\\site-packages (from jsonschema>=3.0->altair<6,>=4.0->streamlit) (2024.10.1)\n",
      "Requirement already satisfied: referencing>=0.28.4 in c:\\users\\user\\appdata\\local\\programs\\python\\python313\\lib\\site-packages (from jsonschema>=3.0->altair<6,>=4.0->streamlit) (0.35.1)\n",
      "Requirement already satisfied: rpds-py>=0.7.1 in c:\\users\\user\\appdata\\local\\programs\\python\\python313\\lib\\site-packages (from jsonschema>=3.0->altair<6,>=4.0->streamlit) (0.22.3)\n",
      "Requirement already satisfied: mdurl~=0.1 in c:\\users\\user\\appdata\\local\\programs\\python\\python313\\lib\\site-packages (from markdown-it-py>=2.2.0->rich<14,>=10.14.0->streamlit) (0.1.2)\n",
      "Requirement already satisfied: six>=1.5 in c:\\users\\user\\appdata\\local\\programs\\python\\python313\\lib\\site-packages (from python-dateutil>=2.8.2->pandas<3,>=1.4.0->streamlit) (1.17.0)\n"
     ]
    }
   ],
   "source": [
    "# Real-Time Dashboard (Optional)\n",
    "# For real-time visual analytics, you can use frameworks like Dash or Streamlit to create a dashboard that dynamically \n",
    "# updates with the new data collected.\n",
    "\n",
    "# Example with Streamlit:\n",
    "!pip install streamlit\n"
   ]
  },
  {
   "cell_type": "code",
   "execution_count": 19,
   "metadata": {},
   "outputs": [
    {
     "name": "stderr",
     "output_type": "stream",
     "text": [
      "2025-01-08 19:55:06.341 WARNING streamlit.runtime.scriptrunner_utils.script_run_context: Thread 'MainThread': missing ScriptRunContext! This warning can be ignored when running in bare mode.\n",
      "2025-01-08 19:55:07.239 \n",
      "  \u001b[33m\u001b[1mWarning:\u001b[0m to view this Streamlit app on a browser, run it with the following\n",
      "  command:\n",
      "\n",
      "    streamlit run c:\\Users\\User\\AppData\\Local\\Programs\\Python\\Python313\\Lib\\site-packages\\ipykernel_launcher.py [ARGUMENTS]\n",
      "2025-01-08 19:55:07.240 Thread 'MainThread': missing ScriptRunContext! This warning can be ignored when running in bare mode.\n",
      "2025-01-08 19:55:07.291 Thread 'MainThread': missing ScriptRunContext! This warning can be ignored when running in bare mode.\n",
      "2025-01-08 19:55:07.295 Thread 'MainThread': missing ScriptRunContext! This warning can be ignored when running in bare mode.\n",
      "2025-01-08 19:55:08.479 Thread 'MainThread': missing ScriptRunContext! This warning can be ignored when running in bare mode.\n",
      "2025-01-08 19:55:08.480 Thread 'MainThread': missing ScriptRunContext! This warning can be ignored when running in bare mode.\n"
     ]
    },
    {
     "data": {
      "text/plain": [
       "DeltaGenerator()"
      ]
     },
     "execution_count": 19,
     "metadata": {},
     "output_type": "execute_result"
    }
   ],
   "source": [
    "# Basic Streamlit code to display data:\n",
    "import streamlit as st\n",
    "import pandas as pd\n",
    "\n",
    "# Load your data\n",
    "df = pd.read_csv('playstore_data.csv')\n",
    "\n",
    "st.title('Google Play Store Data Analytics')\n",
    "st.write(df)\n",
    "\n",
    "st.bar_chart(df['rating'])"
   ]
  },
  {
   "cell_type": "code",
   "execution_count": 20,
   "metadata": {},
   "outputs": [
    {
     "name": "stderr",
     "output_type": "stream",
     "text": [
      "2025-01-08 19:57:40.793 Thread 'MainThread': missing ScriptRunContext! This warning can be ignored when running in bare mode.\n",
      "2025-01-08 19:57:40.795 Thread 'MainThread': missing ScriptRunContext! This warning can be ignored when running in bare mode.\n",
      "2025-01-08 19:57:40.851 Thread 'MainThread': missing ScriptRunContext! This warning can be ignored when running in bare mode.\n",
      "2025-01-08 19:57:40.853 Thread 'MainThread': missing ScriptRunContext! This warning can be ignored when running in bare mode.\n"
     ]
    },
    {
     "data": {
      "text/plain": [
       "DeltaGenerator()"
      ]
     },
     "execution_count": 20,
     "metadata": {},
     "output_type": "execute_result"
    }
   ],
   "source": [
    "# You can run the Streamlit app:\n",
    "import streamlit as st\n",
    "\n",
    "st.title('Google Play Store Data Analytics')\n",
    "st.bar_chart(rating_counts)"
   ]
  }
 ],
 "metadata": {
  "kernelspec": {
   "display_name": "Python 3",
   "language": "python",
   "name": "python3"
  },
  "language_info": {
   "codemirror_mode": {
    "name": "ipython",
    "version": 3
   },
   "file_extension": ".py",
   "mimetype": "text/x-python",
   "name": "python",
   "nbconvert_exporter": "python",
   "pygments_lexer": "ipython3",
   "version": "3.13.1"
  }
 },
 "nbformat": 4,
 "nbformat_minor": 2
}
